{
 "cells": [
  {
   "cell_type": "code",
   "execution_count": null,
   "metadata": {},
   "outputs": [],
   "source": [
    "from jupyter_dash import JupyterDash\n"
   ]
  },
  {
   "cell_type": "code",
   "execution_count": null,
   "metadata": {},
   "outputs": [],
   "source": [
    "import dash\n",
    "from dash import dcc\n",
    "from dash import html\n",
    "from dash.dependencies import Input, Output\n",
    "import plotly.graph_objects as go\n",
    "\n",
    "\n",
    "import pandas as pd\n",
    "\n",
    "import pickle\n"
   ]
  },
  {
   "cell_type": "code",
   "execution_count": null,
   "metadata": {},
   "outputs": [],
   "source": [
    "with open('price_dict.pkl', 'rb') as f:\n",
    "    price_dict = pickle.load(f)\n",
    "\n",
    "with open('si_dict.pkl', 'rb') as f:\n",
    "    si_dict = pickle.load(f)\n",
    "\n",
    "with open('ibd_dict.pkl', 'rb') as f:\n",
    "    ibd_dict = pickle.load(f)\n"
   ]
  },
  {
   "cell_type": "code",
   "execution_count": null,
   "metadata": {},
   "outputs": [],
   "source": [
    "tickers = list(price_dict.keys())\n"
   ]
  },
  {
   "cell_type": "code",
   "execution_count": null,
   "metadata": {},
   "outputs": [],
   "source": [
    "layout = {\n",
    "    'margin': {'b': 15, 't': 15},\n",
    "    'xaxis': {'domain': [0, 0.9]},\n",
    "    'yaxis': {'tickfont': {'color': '#636efa'}, 'title': {'font': {'color': '#636efa'}, 'text': 'Price'}},\n",
    "    'yaxis2': {'anchor': 'x',\n",
    "               'overlaying': 'y',\n",
    "               'side': 'right',\n",
    "               'tickfont': {'color': '#ef553b'},\n",
    "               'title': {'font': {'color': '#ef553b'}, 'text': 'Days to cover'}},\n",
    "    'yaxis3': {'anchor': 'free',\n",
    "               'overlaying': 'y',\n",
    "               'position': 0.95,\n",
    "               'side': 'right',\n",
    "               'tickfont': {'color': '#00cc96'},\n",
    "               'title': {'font': {'color': '#00cc96'}, 'text': 'Borrowing fee'}}\n",
    "}\n"
   ]
  },
  {
   "cell_type": "code",
   "execution_count": null,
   "metadata": {},
   "outputs": [],
   "source": [
    "fig_graph = go.Figure()\n",
    "fig_graph.update_layout(**layout)\n",
    "\n",
    "fig_graph_pct_change = go.Figure()\n",
    "fig_graph_pct_change.update_layout(**layout)\n"
   ]
  },
  {
   "cell_type": "code",
   "execution_count": null,
   "metadata": {},
   "outputs": [],
   "source": [
    "app = JupyterDash(__name__)\n",
    "\n",
    "# Create server variable with Flask server object for use with gunicorn\n",
    "server = app.server\n",
    "\n",
    "app.layout = html.Div(style={'background': 'white', 'font-family': \"-apple-system, BlinkMacSystemFont, 'Segoe UI', Roboto, Helvetica, Arial, sans-serif\"},\n",
    "                      children=[\n",
    "    html.Div([\n",
    "        dcc.Dropdown(\n",
    "            id=\"ticker-select\",\n",
    "            options=[{'label': ticker, 'value': ticker} for ticker in tickers],\n",
    "            value=tickers[0]\n",
    "        )\n",
    "    ], style={'width': '30%', 'margin': 'auto'}),\n",
    "    html.H2(children='Data', style={'margin': 0}),\n",
    "    html.Div([\n",
    "        dcc.Graph(\n",
    "            id='graph',\n",
    "        )\n",
    "    ], style={}),\n",
    "    html.H2(children='Percent change', style={'margin': 0}),\n",
    "    html.Div([\n",
    "        dcc.Graph(\n",
    "            id='graph_pct_change',\n",
    "        )\n",
    "    ], style={})\n",
    "])\n",
    "\n",
    "\n",
    "@app.callback(\n",
    "    Output('graph', 'figure'),\n",
    "    Output('graph_pct_change', 'figure'),\n",
    "    Input('ticker-select', 'value')\n",
    ")\n",
    "def update_figure(ticker):\n",
    "    fig_graph.data = []\n",
    "\n",
    "    fig_graph.add_trace(go.Scatter(\n",
    "        x=price_dict[ticker].index,\n",
    "        y=price_dict[ticker]['Adj Close'],\n",
    "        name=\"Adj Close\"\n",
    "    ))\n",
    "\n",
    "    fig_graph.add_trace(go.Scatter(\n",
    "        x=si_dict[ticker].index,\n",
    "        y=si_dict[ticker]['daysToCover'],\n",
    "        name=\"Short Interest ratio\",\n",
    "        yaxis='y2',\n",
    "        mode='lines+markers',\n",
    "    ))\n",
    "\n",
    "    fig_graph.add_trace(go.Scatter(\n",
    "        x=ibd_dict[ticker].index,\n",
    "        y=ibd_dict[ticker]['fee'],\n",
    "        name=\"Borrowing fee\",\n",
    "        yaxis='y3'\n",
    "    ))\n",
    "\n",
    "    fig_graph_pct_change.data = []\n",
    "\n",
    "    fig_graph_pct_change.add_trace(go.Scatter(\n",
    "        x=price_dict[ticker].index,\n",
    "        y=price_dict[ticker]['Adj Close'].pct_change(),\n",
    "        name=\"Adj Close\"\n",
    "    ))\n",
    "\n",
    "    fig_graph_pct_change.add_trace(go.Scatter(\n",
    "        x=si_dict[ticker].index,\n",
    "        y=si_dict[ticker]['daysToCover'].pct_change(),\n",
    "        name=\"Short Interest ratio\",\n",
    "        yaxis='y2',\n",
    "        mode='lines+markers',\n",
    "    ))\n",
    "\n",
    "    fig_graph_pct_change.add_trace(go.Scatter(\n",
    "        x=ibd_dict[ticker].index,\n",
    "        y=ibd_dict[ticker]['fee'].pct_change(),\n",
    "        name=\"Borrowing fee\",\n",
    "        yaxis='y3'\n",
    "    ))\n",
    "\n",
    "    return fig_graph, fig_graph_pct_change\n"
   ]
  },
  {
   "cell_type": "code",
   "execution_count": null,
   "metadata": {},
   "outputs": [],
   "source": [
    "app.run_server(mode='inline') # use mode='external' to run on localhost:8050"
   ]
  }
 ],
 "metadata": {
  "interpreter": {
   "hash": "6013e67b0afc9f5037c2c5a161d95c97e3822010f0e47dbe6c1004cdba192025"
  },
  "kernelspec": {
   "display_name": "Python 3.8.8 64-bit ('base': conda)",
   "name": "python3"
  },
  "language_info": {
   "codemirror_mode": {
    "name": "ipython",
    "version": 3
   },
   "file_extension": ".py",
   "mimetype": "text/x-python",
   "name": "python",
   "nbconvert_exporter": "python",
   "pygments_lexer": "ipython3",
   "version": "3.8.8"
  },
  "orig_nbformat": 4
 },
 "nbformat": 4,
 "nbformat_minor": 2
}
