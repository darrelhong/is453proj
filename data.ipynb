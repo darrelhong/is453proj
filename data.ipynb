{
 "cells": [
  {
   "cell_type": "code",
   "execution_count": null,
   "metadata": {},
   "outputs": [],
   "source": [
    "import pandas as pd\n",
    "import requests\n",
    "import json\n",
    "from pandas_datareader import data\n",
    "\n",
    "import pickle\n"
   ]
  },
  {
   "cell_type": "code",
   "execution_count": null,
   "metadata": {},
   "outputs": [],
   "source": [
    "ticker = 'TSLA'\n"
   ]
  },
  {
   "cell_type": "code",
   "execution_count": null,
   "metadata": {},
   "outputs": [],
   "source": [
    "si_data = requests.get(f'https://api.nasdaq.com/api/quote/{ticker}/short-interest?assetClass=stocks',\n",
    "                    headers={\"Accept-Language\": \"en-US,en;q=0.9\",\n",
    "                             \"Accept-Encoding\": \"gzip, deflate, br\",\n",
    "                             \"User-Agent\": \"Java-http-client/\"}).text\n"
   ]
  },
  {
   "cell_type": "code",
   "execution_count": null,
   "metadata": {},
   "outputs": [],
   "source": [
    "price_data = data.DataReader(ticker, 'yahoo', '2020-10-01', '2021-10-03')\n",
    "price_data"
   ]
  },
  {
   "cell_type": "code",
   "execution_count": null,
   "metadata": {},
   "outputs": [],
   "source": [
    "data_json = json.loads(si_data)\n",
    "si_df = pd.json_normalize(data_json, record_path=['data','shortInterestTable', 'rows'])\n",
    "si_df['date'] = pd.to_datetime(si_df['settlementDate'])\n",
    "si_df"
   ]
  },
  {
   "cell_type": "code",
   "execution_count": null,
   "metadata": {},
   "outputs": [],
   "source": [
    "ibd_content = requests.get(f'https://iborrowdesk.com/api/ticker/{ticker}').text\n"
   ]
  },
  {
   "cell_type": "code",
   "execution_count": null,
   "metadata": {},
   "outputs": [],
   "source": [
    "ibd_json = json.loads(ibd_content)\n",
    "ibd_df = pd.json_normalize(ibd_json, record_path=['daily'])\n",
    "ibd_df['date'] = pd.to_datetime(ibd_df['time'])\n",
    "ibd_df"
   ]
  },
  {
   "cell_type": "code",
   "execution_count": null,
   "metadata": {},
   "outputs": [],
   "source": [
    "from mpl_toolkits.axes_grid1 import host_subplot\n",
    "from mpl_toolkits import axisartist\n",
    "import matplotlib.pyplot as plt\n",
    "\n",
    "host = host_subplot(111, axes_class=axisartist.Axes,figure=plt.figure(figsize=(30,10)))\n",
    "plt.subplots_adjust(right=0.75)\n",
    "\n",
    "\n",
    "par1 = host.twinx()\n",
    "par2 = host.twinx()\n",
    "\n",
    "par2.axis[\"right\"] = par2.new_fixed_axis(loc=\"right\", offset=(60, 0))\n",
    "\n",
    "par1.axis[\"right\"].toggle(all=True)\n",
    "par2.axis[\"right\"].toggle(all=True)\n",
    "\n",
    "p1, = host.plot(price_data.index, price_data['Adj Close'], label=\"Adj Close\")\n",
    "p2, = par1.plot(si_df['date'], si_df['daysToCover'], label=\"Short interest\")\n",
    "p3, = par2.plot(ibd_df['date'], ibd_df['fee'], label=\"Borrowing free\")\n",
    "\n",
    "\n",
    "host.set_xlabel(\"Time\")\n",
    "host.set_ylabel(\"Price\")\n",
    "par1.set_ylabel(\"Short interest\")\n",
    "par2.set_ylabel(\"Borrowing fee\")\n",
    "\n",
    "host.legend()\n",
    "\n",
    "host.axis[\"left\"].label.set_color(p1.get_color())\n",
    "par1.axis[\"right\"].label.set_color(p2.get_color())\n",
    "par2.axis[\"right\"].label.set_color(p3.get_color())\n",
    "\n",
    "plt.show()"
   ]
  },
  {
   "cell_type": "markdown",
   "metadata": {},
   "source": [
    "# Save and load functions"
   ]
  },
  {
   "cell_type": "code",
   "execution_count": null,
   "metadata": {},
   "outputs": [],
   "source": [
    "# price_dict = {}\n",
    "# si_dict = {}\n",
    "# ibd_dict = {}"
   ]
  },
  {
   "cell_type": "code",
   "execution_count": null,
   "metadata": {},
   "outputs": [],
   "source": [
    "with open('price_dict.pkl', 'rb') as f:\n",
    "    price_dict = pickle.load(f)\n",
    "    \n",
    "with open('si_dict.pkl', 'rb') as f:\n",
    "    si_dict = pickle.load(f)\n",
    "\n",
    "with open('ibd_dict.pkl', 'rb') as f:\n",
    "    ibd_dict = pickle.load(f)"
   ]
  },
  {
   "cell_type": "code",
   "execution_count": null,
   "metadata": {},
   "outputs": [],
   "source": [
    "price_dict[ticker] = price_data\n",
    "si_dict[ticker] = si_df\n",
    "ibd_dict[ticker] = ibd_df"
   ]
  },
  {
   "cell_type": "code",
   "execution_count": null,
   "metadata": {},
   "outputs": [],
   "source": [
    "with open('price_dict.pkl', 'wb') as f:\n",
    "    pickle.dump(price_dict, f, pickle.HIGHEST_PROTOCOL)\n",
    "\n",
    "with open('si_dict.pkl', 'wb') as f:\n",
    "    pickle.dump(si_dict, f, pickle.HIGHEST_PROTOCOL)\n",
    "\n",
    "with open('ibd_dict.pkl', 'wb') as f:\n",
    "    pickle.dump(ibd_dict, f, pickle.HIGHEST_PROTOCOL)"
   ]
  },
  {
   "cell_type": "markdown",
   "metadata": {},
   "source": [
    "# Other stuff"
   ]
  },
  {
   "cell_type": "code",
   "execution_count": null,
   "metadata": {},
   "outputs": [],
   "source": [
    "\n",
    "price_data['Adj Close'].plot(figsize=(30, 5))\n",
    "si_df.plot(x='date', figsize=(30, 5))\n",
    "ibd_df.plot(x='date', y='fee', figsize=(30, 5))\n"
   ]
  },
  {
   "cell_type": "code",
   "execution_count": null,
   "metadata": {},
   "outputs": [],
   "source": []
  },
  {
   "cell_type": "code",
   "execution_count": null,
   "metadata": {},
   "outputs": [],
   "source": [
    "avg_borrowing_fee = ibd_df['fee'].mean()\n",
    "print(f\"Average borrowing fee: {avg_borrowing_fee}\")\n",
    "avg_si_ratio = si_df['daysToCover'].mean()\n",
    "print(f\"Average short interest ratio: {avg_si_ratio}\")\n"
   ]
  },
  {
   "cell_type": "code",
   "execution_count": null,
   "metadata": {},
   "outputs": [],
   "source": [
    "ret_series = (1 + price_data['Adj Close'].pct_change()).cumprod() - 1\n",
    "annual_return_row = ret_series.tail(1)\n",
    "annual_return = annual_return_row[0]"
   ]
  },
  {
   "cell_type": "code",
   "execution_count": null,
   "metadata": {},
   "outputs": [],
   "source": [
    "# only uncomment when creating new data\n",
    "# store = pd.DataFrame(None,columns=['Average borrowing fee', 'Average short interest ratio', 'Annual return'])"
   ]
  },
  {
   "cell_type": "code",
   "execution_count": null,
   "metadata": {},
   "outputs": [],
   "source": [
    "store.loc[ticker] = pd.Series([avg_borrowing_fee, avg_si_ratio, annual_return], index=store.columns)\n",
    "\n",
    "store"
   ]
  },
  {
   "cell_type": "code",
   "execution_count": null,
   "metadata": {},
   "outputs": [],
   "source": [
    "store.to_csv('store.csv')"
   ]
  },
  {
   "cell_type": "code",
   "execution_count": null,
   "metadata": {},
   "outputs": [],
   "source": [
    "store.plot.scatter('Average borrowing fee', 'Annual return')"
   ]
  },
  {
   "cell_type": "code",
   "execution_count": null,
   "metadata": {},
   "outputs": [],
   "source": [
    "store.plot.scatter('Average short interest ratio', 'Annual return')"
   ]
  }
 ],
 "metadata": {
  "interpreter": {
   "hash": "6013e67b0afc9f5037c2c5a161d95c97e3822010f0e47dbe6c1004cdba192025"
  },
  "kernelspec": {
   "display_name": "Python 3.8.8 64-bit ('base': conda)",
   "name": "python3"
  },
  "language_info": {
   "codemirror_mode": {
    "name": "ipython",
    "version": 3
   },
   "file_extension": ".py",
   "mimetype": "text/x-python",
   "name": "python",
   "nbconvert_exporter": "python",
   "pygments_lexer": "ipython3",
   "version": "3.8.8"
  },
  "orig_nbformat": 4
 },
 "nbformat": 4,
 "nbformat_minor": 2
}
