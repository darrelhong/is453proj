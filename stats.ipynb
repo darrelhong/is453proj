{
 "cells": [
  {
   "cell_type": "code",
   "execution_count": null,
   "metadata": {},
   "outputs": [],
   "source": [
    "import os\n",
    "import seaborn as sns\n",
    "import plotly.express as px\n",
    "from plotly.subplots import make_subplots\n",
    "import plotly.graph_objects as go\n",
    "import pandas as pd\n",
    "import numpy as np\n",
    "%matplotlib inline\n"
   ]
  },
  {
   "cell_type": "code",
   "execution_count": null,
   "metadata": {},
   "outputs": [],
   "source": [
    "df = pd.read_csv('stats.csv', index_col='ticker')\n"
   ]
  },
  {
   "cell_type": "code",
   "execution_count": null,
   "metadata": {},
   "outputs": [],
   "source": [
    "df"
   ]
  },
  {
   "cell_type": "code",
   "execution_count": null,
   "metadata": {},
   "outputs": [],
   "source": [
    "df.describe().index"
   ]
  },
  {
   "cell_type": "code",
   "execution_count": null,
   "metadata": {},
   "outputs": [],
   "source": [
    "px.histogram(df, x=\"Avg DTC\", title=\"Average Days to Cover\")\n"
   ]
  },
  {
   "cell_type": "code",
   "execution_count": null,
   "metadata": {},
   "outputs": [],
   "source": [
    "px.scatter(df, x='Avg DTC', y='Annualised return', title=\"DTC against returns\")"
   ]
  },
  {
   "cell_type": "code",
   "execution_count": null,
   "metadata": {},
   "outputs": [],
   "source": [
    "dtc_decile = df.groupby(pd.qcut(df['Avg DTC'], 10))['Annualised return'].mean()\n",
    "\n",
    "dtc_decile.index = dtc_decile.index.astype(str)\n",
    "fig = px.bar(dtc_decile, y='Annualised return',  labels={\n",
    "                     \"Annualised return\": \"Avg annualised return\",\n",
    "                 }, title=\"Average return by DTC decile\")\n",
    "\n",
    "fig.show()"
   ]
  },
  {
   "cell_type": "code",
   "execution_count": null,
   "metadata": {},
   "outputs": [],
   "source": [
    "dropped = df[df['Avg CTB'] < 2]\n",
    "px.histogram(dropped, x=\"Avg CTB\", title = \"Average Cost to Borow\")"
   ]
  },
  {
   "cell_type": "code",
   "execution_count": null,
   "metadata": {},
   "outputs": [],
   "source": [
    "dropped = df[df['Avg CTB'] < 2]\n",
    "px.scatter(dropped, x='Avg CTB', y='Annualised return', title=\"CTB against returns scatter\")"
   ]
  },
  {
   "cell_type": "code",
   "execution_count": null,
   "metadata": {},
   "outputs": [],
   "source": [
    "ctb_decile = df.groupby(pd.qcut(df['Avg CTB'], 10))['Annualised return'].mean()\n",
    "ctb_decile.index = ctb_decile.index.astype(str)\n",
    "fig = px.bar(ctb_decile, y='Annualised return',  labels={\n",
    "                     \"Annualised return\": \"Avg annualised return\",\n",
    "                 }, title=\"Average return by CTB decile\")\n",
    "\n",
    "fig.show()"
   ]
  },
  {
   "cell_type": "code",
   "execution_count": null,
   "metadata": {},
   "outputs": [],
   "source": [
    "fig = make_subplots(rows=3, cols=1)\n",
    "\n",
    "\n",
    "fig.add_trace(\n",
    "    go.Histogram(x=df[\"SI Pearson r\"], name=\"SI Pearson r\"),\n",
    "    row=1, col=1,\n",
    ")\n",
    "\n",
    "fig.add_trace(\n",
    "    go.Histogram(x=df[\"DTC Pearson r\"], name=\"DTC Pearson r\"),\n",
    "    row=2, col=1\n",
    ")\n",
    "\n",
    "fig.add_trace(\n",
    "    go.Histogram(x=df[\"CTB Pearson r\"], name=\"CTB Pearson r\"),\n",
    "    row=3, col=1,\n",
    ")\n",
    "\n",
    "fig.update_layout(height=800, width=600, title_text=\"Distribution plots\")\n"
   ]
  },
  {
   "cell_type": "code",
   "execution_count": null,
   "metadata": {},
   "outputs": [],
   "source": [
    "fig = make_subplots(rows=3, cols=1)\n",
    "fig.add_trace(\n",
    "    go.Histogram(x=df[\"SI offset\"], name=\"SI offset\"),\n",
    "    row=1, col=1,\n",
    ")\n",
    "fig.add_trace(\n",
    "    go.Histogram(x=df[\"DTC offset\"], name=\"DTC offset\"),\n",
    "    row=2, col=1\n",
    ")\n",
    "fig.add_trace(\n",
    "    go.Histogram(x=df[\"CTB offset\"], name=\"CTB offset\"),\n",
    "    row=3, col=1,\n",
    ")\n",
    "\n",
    "fig.update_layout(height=800, width=600, title_text=\"Distribution plots for offset\")\n"
   ]
  },
  {
   "cell_type": "code",
   "execution_count": null,
   "metadata": {},
   "outputs": [],
   "source": [
    "print(df.count())\n",
    "print(df[df['SI Pearson r'] < -0.5].count())"
   ]
  }
 ],
 "metadata": {
  "interpreter": {
   "hash": "6013e67b0afc9f5037c2c5a161d95c97e3822010f0e47dbe6c1004cdba192025"
  },
  "kernelspec": {
   "display_name": "Python 3.8.8 64-bit ('base': conda)",
   "name": "python3"
  },
  "language_info": {
   "codemirror_mode": {
    "name": "ipython",
    "version": 3
   },
   "file_extension": ".py",
   "mimetype": "text/x-python",
   "name": "python",
   "nbconvert_exporter": "python",
   "pygments_lexer": "ipython3",
   "version": "3.8.8"
  },
  "orig_nbformat": 4
 },
 "nbformat": 4,
 "nbformat_minor": 2
}
